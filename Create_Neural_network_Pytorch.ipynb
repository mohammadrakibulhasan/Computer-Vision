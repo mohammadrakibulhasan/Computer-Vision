{
  "nbformat": 4,
  "nbformat_minor": 0,
  "metadata": {
    "colab": {
      "name": "Create_Neural_network_Pytorch.ipynb",
      "provenance": []
    },
    "kernelspec": {
      "name": "python3",
      "display_name": "Python 3"
    }
  },
  "cells": [
    {
      "cell_type": "code",
      "metadata": {
        "id": "GQ2oQMdLob71"
      },
      "source": [
        "import torch\r\n",
        "import torch.nn as nn\r\n",
        "import torch.nn.functional as F"
      ],
      "execution_count": 1,
      "outputs": []
    },
    {
      "cell_type": "code",
      "metadata": {
        "id": "e7W_nnn6op4_"
      },
      "source": [
        "class Neuralnetworkmodel(nn.Module):\r\n",
        "  def __init__(self):\r\n",
        "    super(Neuralnetworkmodel,self).__init__()\r\n",
        "    self.layer1=nn.Linear(784,300)\r\n",
        "    self.layer2=nn.Linear(300,100)\r\n",
        "    self.layer3=nn.Linear(100,10)\r\n",
        "  def forward(self):\r\n",
        "    x=x.view(-1,728)\r\n",
        "    x=F.relu(self.layer1(x))\r\n",
        "    x=F.relu(self.layer2(x))\r\n",
        "    x=F.softmax(self.layer3(x))\r\n",
        "    return x"
      ],
      "execution_count": 11,
      "outputs": []
    },
    {
      "cell_type": "code",
      "metadata": {
        "id": "aVqR6HGKpLvr"
      },
      "source": [
        "neuralnetwork= Neuralnetworkmodel()"
      ],
      "execution_count": 12,
      "outputs": []
    },
    {
      "cell_type": "code",
      "metadata": {
        "colab": {
          "base_uri": "https://localhost:8080/"
        },
        "id": "ANBSa6DCq4Oj",
        "outputId": "4878048b-fb49-4ff0-fd8a-99b3eab3d3c2"
      },
      "source": [
        "neuralnetwork"
      ],
      "execution_count": 13,
      "outputs": [
        {
          "output_type": "execute_result",
          "data": {
            "text/plain": [
              "Neuralnetworkmodel(\n",
              "  (layer1): Linear(in_features=784, out_features=300, bias=True)\n",
              "  (layer2): Linear(in_features=300, out_features=100, bias=True)\n",
              "  (layer3): Linear(in_features=100, out_features=10, bias=True)\n",
              ")"
            ]
          },
          "metadata": {
            "tags": []
          },
          "execution_count": 13
        }
      ]
    },
    {
      "cell_type": "code",
      "metadata": {
        "id": "3SUB-Y0Pq6ou"
      },
      "source": [
        ""
      ],
      "execution_count": null,
      "outputs": []
    }
  ]
}